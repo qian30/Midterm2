{
 "cells": [
  {
   "cell_type": "code",
   "execution_count": 1,
   "id": "18a77d49",
   "metadata": {},
   "outputs": [],
   "source": [
    "from selenium import webdriver\n",
    "from selenium.webdriver.support.ui import Select\n",
    "from selenium.webdriver.chrome.service import Service\n",
    "from selenium.webdriver.common.by import By\n",
    "from webdriver_manager.chrome import ChromeDriverManager\n",
    "from selenium.webdriver.support.ui import WebDriverWait\n",
    "from selenium.webdriver.support import expected_conditions as EC\n",
    "import time, requests"
   ]
  },
  {
   "cell_type": "code",
   "execution_count": 2,
   "id": "525a2c66",
   "metadata": {},
   "outputs": [],
   "source": [
    "driverPath = \"./chromedriver-win64/chromedriver\"\n",
    "\n",
    "\n",
    "s = Service(executable_path=driverPath)\n",
    "s = Service(ChromeDriverManager().install())\n",
    "\n",
    "browser = webdriver.Chrome(service=s)\n",
    "url = 'https://www.cwa.gov.tw/V8/E/W/OBS_Sat.html'\n",
    "\n",
    "browser.get(url)"
   ]
  },
  {
   "cell_type": "code",
   "execution_count": 3,
   "id": "59a07cee",
   "metadata": {},
   "outputs": [
    {
     "ename": "SyntaxError",
     "evalue": "invalid syntax (<ipython-input-3-c5a6b35470ca>, line 2)",
     "output_type": "error",
     "traceback": [
      "\u001b[1;36m  File \u001b[1;32m\"<ipython-input-3-c5a6b35470ca>\"\u001b[1;36m, line \u001b[1;32m2\u001b[0m\n\u001b[1;33m    selector = `#Tab1 a'\u001b[0m\n\u001b[1;37m               ^\u001b[0m\n\u001b[1;31mSyntaxError\u001b[0m\u001b[1;31m:\u001b[0m invalid syntax\n"
     ]
    }
   ],
   "source": [
    "# Use RGB\n",
    "selector = '#Tab1 a'\n",
    "rgbtab = WebDriverWait(browser, 10).until(EC.element_to_be_clickable((By.CSS_SELECTOR, selector))).click()"
   ]
  },
  {
   "cell_type": "code",
   "execution_count": null,
   "id": "ac149c1b",
   "metadata": {},
   "outputs": [],
   "source": [
    "# Click Taiwan\n",
    "selector = '.inline-group > label:nth-child(3)'\n",
    "tw = WebDriverWait(browser, 10).until(EC.element_to_be_clickable((By.CSS_SELECTOR, selector))).click()"
   ]
  },
  {
   "cell_type": "code",
   "execution_count": null,
   "id": "eca698ee",
   "metadata": {},
   "outputs": [],
   "source": [
    "# date 09:00\n",
    "getDate = browser.find_element(By.ID, 'selectday')\n",
    "date = getDate.text.split()[0]\n",
    "getDate.send_keys(date + ' 09:00')"
   ]
  },
  {
   "cell_type": "code",
   "execution_count": null,
   "id": "699fbda7",
   "metadata": {},
   "outputs": [],
   "source": [
    "selector = \"#link-1 > img\"\n",
    "img = browser.find_element(By.CSS_SELECTOR, selector)\n",
    "url = img.get_attribute('src')\n",
    "output = requests.get(url).content\n",
    "\n",
    "with open('411021237.jpg', 'wb') as img:\n",
    "    img.write(output)\n",
    "    print(\"OK\")"
   ]
  },
  {
   "cell_type": "code",
   "execution_count": null,
   "id": "6a2356d7",
   "metadata": {},
   "outputs": [],
   "source": [
    "browser.quit()"
   ]
  }
 ],
 "metadata": {
  "kernelspec": {
   "display_name": "Python 3",
   "language": "python",
   "name": "python3"
  },
  "language_info": {
   "codemirror_mode": {
    "name": "ipython",
    "version": 3
   },
   "file_extension": ".py",
   "mimetype": "text/x-python",
   "name": "python",
   "nbconvert_exporter": "python",
   "pygments_lexer": "ipython3",
   "version": "3.8.8"
  }
 },
 "nbformat": 4,
 "nbformat_minor": 5
}
