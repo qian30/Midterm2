{
 "cells": [
  {
   "cell_type": "code",
   "execution_count": 1,
   "id": "6de341db",
   "metadata": {},
   "outputs": [
    {
     "name": "stdout",
     "output_type": "stream",
     "text": [
      "    0   1    2   3   4    5    6   7   8   9   ...  21  22  23  24  25  26  \\\n",
      "0   60   0    0   0  40   40   30  90  90  70  ...   0   1   1   1   1   1   \n",
      "1  100  90   40  40  60   80   70  70  10  40  ...   1   1   1   1   1   1   \n",
      "2   10  20   90  60  60  100   20  90  10  60  ...   0   0   0   0   0   0   \n",
      "3   10  50   40  90  90   40    0  70  60  60  ...   1   1   1   0   0   1   \n",
      "4    0   0  100  60  20   30   30  30  30   0  ...   1   0   0   0   0   0   \n",
      "5   90  60   80  60  70   20   70  80  20  50  ...   1   0   1   0   0   0   \n",
      "6   80  70   40   0  30   30   70  60  70  80  ...   1   1   1   1   0   1   \n",
      "7    0  50   50  10  40  100  100   0  80  10  ...   1   0   1   0   0   0   \n",
      "8   90  30   20  80  70   20   70   0  20  60  ...   0   1   1   1   1   1   \n",
      "9   50  50   80  20  30   30   20   0  70  70  ...   1   0   1   0   0   1   \n",
      "\n",
      "   27  28  29  30  \n",
      "0   1   1   1   1  \n",
      "1   1   1   1   1  \n",
      "2   0   0   0   0  \n",
      "3   1   1   0   1  \n",
      "4   0   0   0   0  \n",
      "5   1   1   1   1  \n",
      "6   1   1   1   0  \n",
      "7   0   1   0   1  \n",
      "8   0   0   0   0  \n",
      "9   1   0   0   0  \n",
      "\n",
      "[10 rows x 31 columns]\n"
     ]
    }
   ],
   "source": [
    "import pandas as pd\n",
    "data = pd.read_csv('data.csv', header = None)\n",
    "print(data)"
   ]
  },
  {
   "cell_type": "code",
   "execution_count": 2,
   "id": "1b7d6f33",
   "metadata": {},
   "outputs": [],
   "source": [
    "def score(l):\n",
    "    return l[0] * 0.1 + l[1] * 0.1 + l[2] * 0.1 + l[3] * 0.1 + l[4] * 0.2 + l[5] * 0.2 + l[6] * 0.2"
   ]
  },
  {
   "cell_type": "code",
   "execution_count": 3,
   "id": "df1997d0",
   "metadata": {},
   "outputs": [
    {
     "data": {
      "text/plain": [
       "[[28, 59, 36, 64],\n",
       " [69, 55, 66, 87],\n",
       " [54, 69, 55, 53],\n",
       " [45, 52, 37, 61],\n",
       " [32, 15, 61, 35],\n",
       " [61, 45, 38, 61],\n",
       " [45, 75, 63, 79],\n",
       " [59, 29, 62, 57],\n",
       " [54, 39, 49, 58],\n",
       " [36, 62, 36, 52]]"
      ]
     },
     "execution_count": 3,
     "metadata": {},
     "output_type": "execute_result"
    }
   ],
   "source": [
    "ans = []\n",
    "    \n",
    "for i in range(10):\n",
    "    row = [d for d in data.iloc[i]]\n",
    "    a = score(row[:7])\n",
    "    b = score(row[7:14])\n",
    "    c = score(row[14:21])\n",
    "    d = (a+b+c+sum(row[21:31])*10)*0.3\n",
    "    if d > 100: d = 100\n",
    "    ans.append([round(a),round(b),round(c),round(d)])\n",
    "    \n",
    "ans"
   ]
  },
  {
   "cell_type": "code",
   "execution_count": 4,
   "id": "0c6b1472",
   "metadata": {},
   "outputs": [],
   "source": [
    "df = pd.DataFrame(ans)\n",
    "df.to_csv(\"411021237.csv\", encoding = \"utf-8\", index = False, header = False)"
   ]
  }
 ],
 "metadata": {
  "kernelspec": {
   "display_name": "Python 3",
   "language": "python",
   "name": "python3"
  },
  "language_info": {
   "codemirror_mode": {
    "name": "ipython",
    "version": 3
   },
   "file_extension": ".py",
   "mimetype": "text/x-python",
   "name": "python",
   "nbconvert_exporter": "python",
   "pygments_lexer": "ipython3",
   "version": "3.8.8"
  }
 },
 "nbformat": 4,
 "nbformat_minor": 5
}
